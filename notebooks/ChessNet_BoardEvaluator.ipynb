{
 "cells": [
  {
   "cell_type": "code",
   "execution_count": 30,
   "metadata": {},
   "outputs": [],
   "source": [
    "import chess.pgn\n",
    "import time\n",
    "import sys\n",
    "import math\n",
    "import numpy as np"
   ]
  },
  {
   "cell_type": "code",
   "execution_count": 31,
   "metadata": {},
   "outputs": [],
   "source": [
    "BOARD_SPACES = 64\n",
    "ROWS = 8\n",
    "COLS = 8\n",
    "\n",
    "letter_lookup = {\n",
    "    'a':0,\n",
    "    'b':1,\n",
    "    'c':2,\n",
    "    'd':3,\n",
    "    'e':4,\n",
    "    'f':5,\n",
    "    'g':6,\n",
    "    'h':7\n",
    "}\n",
    "piece_lookup = {\n",
    "    'r':0,\n",
    "    'n':1,\n",
    "    'b':2,\n",
    "    'q':3,\n",
    "    'k':4,\n",
    "    'p':5,\n",
    "    'R':6,\n",
    "    'N':7,\n",
    "    'B':8,\n",
    "    'Q':9,\n",
    "    'K':10,\n",
    "    'P':11,\n",
    "    '.':-1\n",
    "}"
   ]
  },
  {
   "cell_type": "code",
   "execution_count": 32,
   "metadata": {},
   "outputs": [
    {
     "name": "stdout",
     "output_type": "stream",
     "text": [
      "1000\n",
      "2000\n",
      "3000\n",
      "4000\n",
      "5000\n",
      "6000\n",
      "7000\n",
      "8000\n",
      "9000\n",
      "10000\n"
     ]
    },
    {
     "data": {
      "text/plain": [
       "(array([[[1., 0., 0., 0., 0., 0., 0., 0., 0., 0., 0., 0., 0.],\n",
       "         [0., 1., 0., 0., 0., 0., 0., 0., 0., 0., 0., 0., 0.],\n",
       "         [0., 0., 1., 0., 0., 0., 0., 0., 0., 0., 0., 0., 0.],\n",
       "         [0., 0., 0., 1., 0., 0., 0., 0., 0., 0., 0., 0., 0.],\n",
       "         [0., 0., 0., 0., 1., 0., 0., 0., 0., 0., 0., 0., 0.],\n",
       "         [0., 0., 1., 0., 0., 0., 0., 0., 0., 0., 0., 0., 0.],\n",
       "         [0., 0., 0., 0., 0., 0., 0., 0., 0., 0., 0., 0., 0.],\n",
       "         [1., 0., 0., 0., 0., 0., 0., 0., 0., 0., 0., 0., 0.]],\n",
       " \n",
       "        [[0., 0., 0., 0., 0., 1., 0., 0., 0., 0., 0., 0., 0.],\n",
       "         [0., 0., 0., 0., 0., 1., 0., 0., 0., 0., 0., 0., 0.],\n",
       "         [0., 0., 0., 0., 0., 1., 0., 0., 0., 0., 0., 0., 0.],\n",
       "         [0., 0., 0., 0., 0., 1., 0., 0., 0., 0., 0., 0., 0.],\n",
       "         [0., 0., 0., 0., 0., 1., 0., 0., 0., 0., 0., 0., 0.],\n",
       "         [0., 0., 0., 0., 0., 1., 0., 0., 0., 0., 0., 0., 0.],\n",
       "         [0., 0., 0., 0., 0., 1., 0., 0., 0., 0., 0., 0., 0.],\n",
       "         [0., 0., 0., 0., 0., 1., 0., 0., 0., 0., 0., 0., 0.]],\n",
       " \n",
       "        [[0., 0., 0., 0., 0., 0., 0., 0., 0., 0., 0., 0., 0.],\n",
       "         [0., 0., 0., 0., 0., 0., 0., 0., 0., 0., 0., 0., 0.],\n",
       "         [0., 0., 0., 0., 0., 0., 0., 0., 0., 0., 0., 0., 0.],\n",
       "         [0., 0., 0., 0., 0., 0., 0., 0., 0., 0., 0., 0., 0.],\n",
       "         [0., 0., 0., 0., 0., 0., 0., 0., 0., 0., 0., 0., 0.],\n",
       "         [0., 1., 0., 0., 0., 0., 0., 0., 0., 0., 0., 0., 0.],\n",
       "         [0., 0., 0., 0., 0., 0., 0., 0., 0., 0., 0., 0., 0.],\n",
       "         [0., 0., 0., 0., 0., 0., 0., 0., 0., 0., 0., 0., 0.]],\n",
       " \n",
       "        [[0., 0., 0., 0., 0., 0., 0., 0., 0., 0., 0., 0., 0.],\n",
       "         [0., 0., 0., 0., 0., 0., 0., 0., 0., 0., 0., 0., 0.],\n",
       "         [0., 0., 0., 0., 0., 0., 0., 0., 0., 0., 0., 0., 0.],\n",
       "         [0., 0., 0., 0., 0., 0., 0., 0., 0., 0., 0., 0., 0.],\n",
       "         [0., 0., 0., 0., 0., 0., 0., 0., 0., 0., 0., 0., 0.],\n",
       "         [0., 0., 0., 0., 0., 0., 0., 0., 0., 0., 0., 0., 0.],\n",
       "         [0., 0., 0., 0., 0., 0., 0., 0., 0., 0., 0., 0., 0.],\n",
       "         [0., 0., 0., 0., 0., 0., 0., 0., 0., 0., 0., 0., 0.]],\n",
       " \n",
       "        [[0., 0., 0., 0., 0., 0., 0., 0., 0., 0., 0., 0., 0.],\n",
       "         [0., 0., 0., 0., 0., 0., 0., 0., 0., 0., 0., 0., 0.],\n",
       "         [0., 0., 0., 0., 0., 0., 0., 0., 0., 0., 0., 0., 0.],\n",
       "         [0., 0., 0., 0., 0., 0., 0., 0., 0., 0., 0., 1., 0.],\n",
       "         [0., 0., 0., 0., 0., 0., 0., 0., 0., 0., 0., 0., 0.],\n",
       "         [0., 0., 0., 0., 0., 0., 0., 0., 0., 0., 0., 0., 0.],\n",
       "         [0., 0., 0., 0., 0., 0., 0., 0., 0., 0., 0., 0., 0.],\n",
       "         [0., 0., 0., 0., 0., 0., 0., 0., 0., 0., 0., 0., 0.]],\n",
       " \n",
       "        [[0., 0., 0., 0., 0., 0., 0., 0., 0., 0., 0., 0., 0.],\n",
       "         [0., 0., 0., 0., 0., 0., 0., 0., 0., 0., 0., 0., 0.],\n",
       "         [0., 0., 0., 0., 0., 0., 0., 0., 0., 0., 0., 0., 0.],\n",
       "         [0., 0., 0., 0., 0., 0., 0., 0., 0., 0., 0., 0., 0.],\n",
       "         [0., 0., 0., 0., 0., 0., 0., 0., 0., 0., 0., 0., 0.],\n",
       "         [0., 0., 0., 0., 0., 0., 0., 0., 0., 0., 0., 0., 0.],\n",
       "         [0., 0., 0., 0., 0., 0., 0., 0., 0., 0., 0., 0., 0.],\n",
       "         [0., 0., 0., 0., 0., 0., 0., 0., 0., 0., 0., 0., 0.]],\n",
       " \n",
       "        [[0., 0., 0., 0., 0., 0., 0., 0., 0., 0., 0., 1., 0.],\n",
       "         [0., 0., 0., 0., 0., 0., 0., 0., 0., 0., 0., 1., 0.],\n",
       "         [0., 0., 0., 0., 0., 0., 0., 0., 0., 0., 0., 1., 0.],\n",
       "         [0., 0., 0., 0., 0., 0., 0., 0., 0., 0., 0., 0., 0.],\n",
       "         [0., 0., 0., 0., 0., 0., 0., 0., 0., 0., 0., 1., 0.],\n",
       "         [0., 0., 0., 0., 0., 0., 0., 0., 0., 0., 0., 1., 0.],\n",
       "         [0., 0., 0., 0., 0., 0., 0., 0., 0., 0., 0., 1., 0.],\n",
       "         [0., 0., 0., 0., 0., 0., 0., 0., 0., 0., 0., 1., 0.]],\n",
       " \n",
       "        [[0., 0., 0., 0., 0., 0., 1., 0., 0., 0., 0., 0., 0.],\n",
       "         [0., 0., 0., 0., 0., 0., 0., 1., 0., 0., 0., 0., 0.],\n",
       "         [0., 0., 0., 0., 0., 0., 0., 0., 1., 0., 0., 0., 0.],\n",
       "         [0., 0., 0., 0., 0., 0., 0., 0., 0., 1., 0., 0., 0.],\n",
       "         [0., 0., 0., 0., 0., 0., 0., 0., 0., 0., 1., 0., 0.],\n",
       "         [0., 0., 0., 0., 0., 0., 0., 0., 1., 0., 0., 0., 0.],\n",
       "         [0., 0., 0., 0., 0., 0., 0., 1., 0., 0., 0., 0., 0.],\n",
       "         [0., 0., 0., 0., 0., 0., 1., 0., 0., 0., 0., 0., 0.]]]),\n",
       " 0.4714285714285714)"
      ]
     },
     "execution_count": 32,
     "metadata": {},
     "output_type": "execute_result"
    }
   ],
   "source": [
    "# Format of Dataset\n",
    "# One chanel per piece\n",
    "# One additional channel showing whose turn it is\n",
    "# Referenced from https://int8.io/chess-position-evaluation-with-convolutional-neural-networks-in-julia/\n",
    "\n",
    "dataset_x = []\n",
    "dataset_y = []\n",
    "posns = []\n",
    "\n",
    "pgn = open(\"datasets/AllGames.pgn\")\n",
    "game = chess.pgn.read_game(pgn)\n",
    "black_or_white = True\n",
    "count = 0\n",
    "white_win = None\n",
    "\n",
    "while game != None:\n",
    "    # Get the game board\n",
    "    board = game.board()\n",
    "\n",
    "    # Truncate the number of games\n",
    "    count += 1\n",
    "    if count % 1000 == 0:\n",
    "        print(count)\n",
    "    if count >= 10000:\n",
    "        break\n",
    "\n",
    "    # Determine the winner of the game\n",
    "    result = game.headers['Result']\n",
    "    if result == '1-0':\n",
    "        white_win = 1\n",
    "    elif result == '0-1':\n",
    "        white_win = 0\n",
    "    else:\n",
    "        white_win = 0.5\n",
    "    num_moves = sum(1 for _ in game.mainline_moves())\n",
    "            \n",
    "    for i, move in enumerate(game.mainline_moves()):\n",
    "        # Compute the board state\n",
    "        state = 0.5*float(i+1)/num_moves\n",
    "        if black_or_white == False:\n",
    "            state *= -1\n",
    "        state += 0.5        \n",
    "        board.push(move)\n",
    "                \n",
    "        # Turn the board into a vector\n",
    "        strboard = str(board)\n",
    "        board_data = np.zeros((8, 8, 13))\n",
    "        idx = 0\n",
    "        for char in strboard:\n",
    "            if char in piece_lookup:\n",
    "                if char != '.':\n",
    "                    piece = np.zeros(13)\n",
    "                    piece[piece_lookup[char]] = 1\n",
    "                    if black_or_white == True:\n",
    "                        piece[-1] = 1\n",
    "                    board_data[int(idx/COLS)][idx%ROWS] = piece\n",
    "                idx += 1\n",
    "                \n",
    "        dataset_x.append(board_data)\n",
    "        dataset_y.append(np.array(state))\n",
    "        black_or_white = not black_or_white\n",
    "\n",
    "    game = chess.pgn.read_game(pgn)\n",
    "\n",
    "dataset_x = np.stack(dataset_x)\n",
    "dataset_y = np.stack(dataset_y)\n",
    "\n",
    "dataset_x[1], dataset_y[1]"
   ]
  },
  {
   "cell_type": "code",
   "execution_count": 39,
   "metadata": {},
   "outputs": [
    {
     "name": "stdout",
     "output_type": "stream",
     "text": [
      "(856591, 8, 8, 13) 1\n",
      "0.5142857142857142\n"
     ]
    }
   ],
   "source": [
    "inshape = dataset_x[0].shape\n",
    "outshape = dataset_y[0].size\n",
    "print(dataset_x.shape, outshape)\n",
    "print(dataset_y[0])"
   ]
  },
  {
   "cell_type": "code",
   "execution_count": 40,
   "metadata": {},
   "outputs": [],
   "source": [
    "import keras\n",
    "from keras.models import Sequential\n",
    "from keras.layers import Dense, Dropout, Flatten, Activation\n",
    "from keras.layers import Conv2D, MaxPooling2D\n",
    "from keras.optimizers import SGD, Adadelta, Adam, RMSprop\n",
    "from keras.callbacks import ModelCheckpoint, TensorBoard"
   ]
  },
  {
   "cell_type": "code",
   "execution_count": 41,
   "metadata": {},
   "outputs": [],
   "source": [
    "model = Sequential()\n",
    "model.add(Conv2D(128, kernel_size=(2, 2), padding='same',\n",
    "                 input_shape=inshape))\n",
    "model.add(Activation('relu'))\n",
    "\n",
    "model.add(Conv2D(128, kernel_size=(2, 2), padding='same'))\n",
    "model.add(Activation('relu'))\n",
    "\n",
    "model.add(Flatten())\n",
    "\n",
    "model.add(Dense(1024))\n",
    "model.add(Activation('relu'))\n",
    "\n",
    "model.add(Dense(1024))\n",
    "model.add(Activation('relu'))\n",
    "\n",
    "model.add(Dense(outshape, activation='sigmoid'))\n",
    "\n",
    "model.compile(loss=keras.losses.mean_squared_error,\n",
    "              optimizer=Adam(lr=0.001),\n",
    "              metrics=['mse'])\n",
    "\n",
    "tensorboard = TensorBoard(log_dir='logs')\n",
    "filepath = '/home/mitchellcatoen/weights.{epoch:02d}-{val_loss:.2f}.hdf5'\n",
    "checkpoint = ModelCheckpoint(filepath, verbose=1)\n",
    "callbacks = [tensorboard, checkpoint]\n",
    "\n",
    "# model.load_weights(filepath)"
   ]
  },
  {
   "cell_type": "code",
   "execution_count": 42,
   "metadata": {},
   "outputs": [],
   "source": [
    "# import sys\n",
    "# sys.stdout = open(\"output.txt\", \"w\")\n",
    "# print(\"Starting\")"
   ]
  },
  {
   "cell_type": "code",
   "execution_count": null,
   "metadata": {},
   "outputs": [
    {
     "name": "stdout",
     "output_type": "stream",
     "text": [
      "Train on 770931 samples, validate on 85660 samples\n",
      "Epoch 1/200\n",
      "770931/770931 [==============================] - 249s 323us/step - loss: 0.0036 - mean_squared_error: 0.0036 - val_loss: 0.0019 - val_mean_squared_error: 0.0019\n",
      "\n",
      "Epoch 00001: saving model to /home/mitchellcatoen/weights.01-0.00.hdf5\n",
      "Epoch 2/200\n",
      "770931/770931 [==============================] - 249s 323us/step - loss: 0.0011 - mean_squared_error: 0.0011 - val_loss: 0.0010 - val_mean_squared_error: 0.0010\n",
      "\n",
      "Epoch 00002: saving model to /home/mitchellcatoen/weights.02-0.00.hdf5\n",
      "Epoch 3/200\n",
      "770931/770931 [==============================] - 249s 323us/step - loss: 7.3461e-04 - mean_squared_error: 7.3461e-04 - val_loss: 7.5690e-04 - val_mean_squared_error: 7.5690e-04\n",
      "\n",
      "Epoch 00003: saving model to /home/mitchellcatoen/weights.03-0.00.hdf5\n",
      "Epoch 4/200\n",
      "770931/770931 [==============================] - 249s 323us/step - loss: 5.8658e-04 - mean_squared_error: 5.8658e-04 - val_loss: 6.5641e-04 - val_mean_squared_error: 6.5641e-04\n",
      "\n",
      "Epoch 00004: saving model to /home/mitchellcatoen/weights.04-0.00.hdf5\n",
      "Epoch 5/200\n",
      "516864/770931 [===================>..........] - ETA: 1:20 - loss: 5.0758e-04 - mean_squared_error: 5.0758e-04"
     ]
    },
    {
     "name": "stderr",
     "output_type": "stream",
     "text": [
      "IOPub message rate exceeded.\n",
      "The notebook server will temporarily stop sending output\n",
      "to the client in order to avoid crashing it.\n",
      "To change this limit, set the config variable\n",
      "`--NotebookApp.iopub_msg_rate_limit`.\n",
      "\n",
      "Current values:\n",
      "NotebookApp.iopub_msg_rate_limit=1000.0 (msgs/sec)\n",
      "NotebookApp.rate_limit_window=3.0 (secs)\n",
      "\n"
     ]
    },
    {
     "name": "stdout",
     "output_type": "stream",
     "text": [
      "770931/770931 [==============================] - 249s 323us/step - loss: 4.5127e-04 - mean_squared_error: 4.5127e-04 - val_loss: 5.5476e-04 - val_mean_squared_error: 5.5476e-04\n",
      "\n",
      "Epoch 00006: saving model to /home/mitchellcatoen/weights.06-0.00.hdf5\n",
      "Epoch 7/200\n",
      "  8704/770931 [..............................] - ETA: 4:04 - loss: 4.0718e-04 - mean_squared_error: 4.0718e-04"
     ]
    },
    {
     "name": "stderr",
     "output_type": "stream",
     "text": [
      "IOPub message rate exceeded.\n",
      "The notebook server will temporarily stop sending output\n",
      "to the client in order to avoid crashing it.\n",
      "To change this limit, set the config variable\n",
      "`--NotebookApp.iopub_msg_rate_limit`.\n",
      "\n",
      "Current values:\n",
      "NotebookApp.iopub_msg_rate_limit=1000.0 (msgs/sec)\n",
      "NotebookApp.rate_limit_window=3.0 (secs)\n",
      "\n"
     ]
    },
    {
     "name": "stdout",
     "output_type": "stream",
     "text": [
      "770931/770931 [==============================] - 250s 324us/step - loss: 4.1699e-04 - mean_squared_error: 4.1699e-04 - val_loss: 4.9544e-04 - val_mean_squared_error: 4.9544e-04\n",
      "\n",
      "Epoch 00007: saving model to /home/mitchellcatoen/weights.07-0.00.hdf5\n",
      "Epoch 8/200\n",
      "157888/770931 [=====>........................] - ETA: 3:14 - loss: 3.8137e-04 - mean_squared_error: 3.8137e-04"
     ]
    },
    {
     "name": "stderr",
     "output_type": "stream",
     "text": [
      "IOPub message rate exceeded.\n",
      "The notebook server will temporarily stop sending output\n",
      "to the client in order to avoid crashing it.\n",
      "To change this limit, set the config variable\n",
      "`--NotebookApp.iopub_msg_rate_limit`.\n",
      "\n",
      "Current values:\n",
      "NotebookApp.iopub_msg_rate_limit=1000.0 (msgs/sec)\n",
      "NotebookApp.rate_limit_window=3.0 (secs)\n",
      "\n"
     ]
    },
    {
     "name": "stdout",
     "output_type": "stream",
     "text": [
      "770931/770931 [==============================] - 249s 323us/step - loss: 3.9128e-04 - mean_squared_error: 3.9128e-04 - val_loss: 4.9197e-04 - val_mean_squared_error: 4.9197e-04\n",
      "\n",
      "Epoch 00008: saving model to /home/mitchellcatoen/weights.08-0.00.hdf5\n",
      "Epoch 9/200\n",
      "344320/770931 [============>.................] - ETA: 2:15 - loss: 3.6359e-04 - mean_squared_error: 3.6359e-04"
     ]
    },
    {
     "name": "stderr",
     "output_type": "stream",
     "text": [
      "IOPub message rate exceeded.\n",
      "The notebook server will temporarily stop sending output\n",
      "to the client in order to avoid crashing it.\n",
      "To change this limit, set the config variable\n",
      "`--NotebookApp.iopub_msg_rate_limit`.\n",
      "\n",
      "Current values:\n",
      "NotebookApp.iopub_msg_rate_limit=1000.0 (msgs/sec)\n",
      "NotebookApp.rate_limit_window=3.0 (secs)\n",
      "\n"
     ]
    },
    {
     "name": "stdout",
     "output_type": "stream",
     "text": [
      "770931/770931 [==============================] - 249s 323us/step - loss: 3.7310e-04 - mean_squared_error: 3.7310e-04 - val_loss: 4.6873e-04 - val_mean_squared_error: 4.6873e-04\n",
      "\n",
      "Epoch 00009: saving model to /home/mitchellcatoen/weights.09-0.00.hdf5\n",
      "Epoch 10/200\n",
      "521152/770931 [===================>..........] - ETA: 1:19 - loss: 3.5634e-04 - mean_squared_error: 3.5634e-04"
     ]
    },
    {
     "name": "stderr",
     "output_type": "stream",
     "text": [
      "IOPub message rate exceeded.\n",
      "The notebook server will temporarily stop sending output\n",
      "to the client in order to avoid crashing it.\n",
      "To change this limit, set the config variable\n",
      "`--NotebookApp.iopub_msg_rate_limit`.\n",
      "\n",
      "Current values:\n",
      "NotebookApp.iopub_msg_rate_limit=1000.0 (msgs/sec)\n",
      "NotebookApp.rate_limit_window=3.0 (secs)\n",
      "\n"
     ]
    },
    {
     "name": "stdout",
     "output_type": "stream",
     "text": [
      "770931/770931 [==============================] - 249s 323us/step - loss: 3.5735e-04 - mean_squared_error: 3.5735e-04 - val_loss: 4.6519e-04 - val_mean_squared_error: 4.6519e-04\n",
      "\n",
      "Epoch 00010: saving model to /home/mitchellcatoen/weights.10-0.00.hdf5\n",
      "Epoch 11/200\n",
      "574720/770931 [=====================>........] - ETA: 1:02 - loss: 3.4557e-04 - mean_squared_error: 3.4557e-04"
     ]
    },
    {
     "name": "stderr",
     "output_type": "stream",
     "text": [
      "IOPub message rate exceeded.\n",
      "The notebook server will temporarily stop sending output\n",
      "to the client in order to avoid crashing it.\n",
      "To change this limit, set the config variable\n",
      "`--NotebookApp.iopub_msg_rate_limit`.\n",
      "\n",
      "Current values:\n",
      "NotebookApp.iopub_msg_rate_limit=1000.0 (msgs/sec)\n",
      "NotebookApp.rate_limit_window=3.0 (secs)\n",
      "\n"
     ]
    },
    {
     "name": "stdout",
     "output_type": "stream",
     "text": [
      "736704/770931 [===========================>..] - ETA: 10s - loss: 3.3649e-04 - mean_squared_error: 3.3649e-04"
     ]
    },
    {
     "name": "stderr",
     "output_type": "stream",
     "text": [
      "IOPub message rate exceeded.\n",
      "The notebook server will temporarily stop sending output\n",
      "to the client in order to avoid crashing it.\n",
      "To change this limit, set the config variable\n",
      "`--NotebookApp.iopub_msg_rate_limit`.\n",
      "\n",
      "Current values:\n",
      "NotebookApp.iopub_msg_rate_limit=1000.0 (msgs/sec)\n",
      "NotebookApp.rate_limit_window=3.0 (secs)\n",
      "\n"
     ]
    },
    {
     "name": "stdout",
     "output_type": "stream",
     "text": [
      "770931/770931 [==============================] - 249s 323us/step - loss: 3.2774e-04 - mean_squared_error: 3.2774e-04 - val_loss: 4.2251e-04 - val_mean_squared_error: 4.2251e-04\n",
      "\n",
      "Epoch 00013: saving model to /home/mitchellcatoen/weights.13-0.00.hdf5\n",
      "Epoch 14/200\n",
      " 34432/770931 [>.............................] - ETA: 3:52 - loss: 3.0589e-04 - mean_squared_error: 3.0589e-04"
     ]
    },
    {
     "name": "stderr",
     "output_type": "stream",
     "text": [
      "IOPub message rate exceeded.\n",
      "The notebook server will temporarily stop sending output\n",
      "to the client in order to avoid crashing it.\n",
      "To change this limit, set the config variable\n",
      "`--NotebookApp.iopub_msg_rate_limit`.\n",
      "\n",
      "Current values:\n",
      "NotebookApp.iopub_msg_rate_limit=1000.0 (msgs/sec)\n",
      "NotebookApp.rate_limit_window=3.0 (secs)\n",
      "\n"
     ]
    },
    {
     "name": "stdout",
     "output_type": "stream",
     "text": [
      "770931/770931 [==============================] - 249s 323us/step - loss: 3.2119e-04 - mean_squared_error: 3.2119e-04 - val_loss: 4.1722e-04 - val_mean_squared_error: 4.1722e-04\n",
      "\n",
      "Epoch 00014: saving model to /home/mitchellcatoen/weights.14-0.00.hdf5\n",
      "Epoch 15/200\n",
      "223168/770931 [=======>......................] - ETA: 2:53 - loss: 3.1034e-04 - mean_squared_error: 3.1034e-04"
     ]
    },
    {
     "name": "stderr",
     "output_type": "stream",
     "text": [
      "IOPub message rate exceeded.\n",
      "The notebook server will temporarily stop sending output\n",
      "to the client in order to avoid crashing it.\n",
      "To change this limit, set the config variable\n",
      "`--NotebookApp.iopub_msg_rate_limit`.\n",
      "\n",
      "Current values:\n",
      "NotebookApp.iopub_msg_rate_limit=1000.0 (msgs/sec)\n",
      "NotebookApp.rate_limit_window=3.0 (secs)\n",
      "\n"
     ]
    },
    {
     "name": "stdout",
     "output_type": "stream",
     "text": [
      "770931/770931 [==============================] - 249s 323us/step - loss: 3.1495e-04 - mean_squared_error: 3.1495e-04 - val_loss: 4.0317e-04 - val_mean_squared_error: 4.0317e-04\n",
      "\n",
      "Epoch 00015: saving model to /home/mitchellcatoen/weights.15-0.00.hdf5\n",
      "Epoch 16/200\n",
      "401536/770931 [==============>...............] - ETA: 1:57 - loss: 3.0602e-04 - mean_squared_error: 3.0602e-04"
     ]
    },
    {
     "name": "stderr",
     "output_type": "stream",
     "text": [
      "IOPub message rate exceeded.\n",
      "The notebook server will temporarily stop sending output\n",
      "to the client in order to avoid crashing it.\n",
      "To change this limit, set the config variable\n",
      "`--NotebookApp.iopub_msg_rate_limit`.\n",
      "\n",
      "Current values:\n",
      "NotebookApp.iopub_msg_rate_limit=1000.0 (msgs/sec)\n",
      "NotebookApp.rate_limit_window=3.0 (secs)\n",
      "\n"
     ]
    },
    {
     "name": "stdout",
     "output_type": "stream",
     "text": [
      "607168/770931 [======================>.......] - ETA: 51s - loss: 3.0354e-04 - mean_squared_error: 3.0354e-04"
     ]
    },
    {
     "name": "stderr",
     "output_type": "stream",
     "text": [
      "IOPub message rate exceeded.\n",
      "The notebook server will temporarily stop sending output\n",
      "to the client in order to avoid crashing it.\n",
      "To change this limit, set the config variable\n",
      "`--NotebookApp.iopub_msg_rate_limit`.\n",
      "\n",
      "Current values:\n",
      "NotebookApp.iopub_msg_rate_limit=1000.0 (msgs/sec)\n",
      "NotebookApp.rate_limit_window=3.0 (secs)\n",
      "\n"
     ]
    },
    {
     "name": "stdout",
     "output_type": "stream",
     "text": [
      "770368/770931 [============================>.] - ETA: 0s - loss: 3.0035e-04 - mean_squared_error: 3.0035e-04"
     ]
    },
    {
     "name": "stderr",
     "output_type": "stream",
     "text": [
      "IOPub message rate exceeded.\n",
      "The notebook server will temporarily stop sending output\n",
      "to the client in order to avoid crashing it.\n",
      "To change this limit, set the config variable\n",
      "`--NotebookApp.iopub_msg_rate_limit`.\n",
      "\n",
      "Current values:\n",
      "NotebookApp.iopub_msg_rate_limit=1000.0 (msgs/sec)\n",
      "NotebookApp.rate_limit_window=3.0 (secs)\n",
      "\n"
     ]
    },
    {
     "name": "stdout",
     "output_type": "stream",
     "text": [
      "770931/770931 [==============================] - 249s 323us/step - loss: 2.9624e-04 - mean_squared_error: 2.9624e-04 - val_loss: 3.8983e-04 - val_mean_squared_error: 3.8983e-04\n",
      "\n",
      "Epoch 00019: saving model to /home/mitchellcatoen/weights.19-0.00.hdf5\n",
      "Epoch 20/200\n",
      "186688/770931 [======>.......................] - ETA: 3:05 - loss: 2.8699e-04 - mean_squared_error: 2.8699e-04"
     ]
    },
    {
     "name": "stderr",
     "output_type": "stream",
     "text": [
      "IOPub message rate exceeded.\n",
      "The notebook server will temporarily stop sending output\n",
      "to the client in order to avoid crashing it.\n",
      "To change this limit, set the config variable\n",
      "`--NotebookApp.iopub_msg_rate_limit`.\n",
      "\n",
      "Current values:\n",
      "NotebookApp.iopub_msg_rate_limit=1000.0 (msgs/sec)\n",
      "NotebookApp.rate_limit_window=3.0 (secs)\n",
      "\n"
     ]
    },
    {
     "name": "stdout",
     "output_type": "stream",
     "text": [
      "547648/770931 [====================>.........] - ETA: 1:10 - loss: 2.9248e-04 - mean_squared_error: 2.9248e-04"
     ]
    },
    {
     "name": "stderr",
     "output_type": "stream",
     "text": [
      "IOPub message rate exceeded.\n",
      "The notebook server will temporarily stop sending output\n",
      "to the client in order to avoid crashing it.\n",
      "To change this limit, set the config variable\n",
      "`--NotebookApp.iopub_msg_rate_limit`.\n",
      "\n",
      "Current values:\n",
      "NotebookApp.iopub_msg_rate_limit=1000.0 (msgs/sec)\n",
      "NotebookApp.rate_limit_window=3.0 (secs)\n",
      "\n"
     ]
    },
    {
     "name": "stdout",
     "output_type": "stream",
     "text": [
      "770931/770931 [==============================] - 249s 323us/step - loss: 2.9371e-04 - mean_squared_error: 2.9371e-04 - val_loss: 3.8976e-04 - val_mean_squared_error: 3.8976e-04\n",
      "\n",
      "Epoch 00020: saving model to /home/mitchellcatoen/weights.20-0.00.hdf5\n",
      "Epoch 21/200\n",
      "359680/770931 [============>.................] - ETA: 2:10 - loss: 2.8415e-04 - mean_squared_error: 2.8415e-04"
     ]
    },
    {
     "name": "stderr",
     "output_type": "stream",
     "text": [
      "IOPub message rate exceeded.\n",
      "The notebook server will temporarily stop sending output\n",
      "to the client in order to avoid crashing it.\n",
      "To change this limit, set the config variable\n",
      "`--NotebookApp.iopub_msg_rate_limit`.\n",
      "\n",
      "Current values:\n",
      "NotebookApp.iopub_msg_rate_limit=1000.0 (msgs/sec)\n",
      "NotebookApp.rate_limit_window=3.0 (secs)\n",
      "\n"
     ]
    },
    {
     "name": "stdout",
     "output_type": "stream",
     "text": [
      "720640/770931 [===========================>..] - ETA: 15s - loss: 2.8915e-04 - mean_squared_error: 2.8915e-04"
     ]
    },
    {
     "name": "stderr",
     "output_type": "stream",
     "text": [
      "IOPub message rate exceeded.\n",
      "The notebook server will temporarily stop sending output\n",
      "to the client in order to avoid crashing it.\n",
      "To change this limit, set the config variable\n",
      "`--NotebookApp.iopub_msg_rate_limit`.\n",
      "\n",
      "Current values:\n",
      "NotebookApp.iopub_msg_rate_limit=1000.0 (msgs/sec)\n",
      "NotebookApp.rate_limit_window=3.0 (secs)\n",
      "\n"
     ]
    },
    {
     "name": "stdout",
     "output_type": "stream",
     "text": [
      "533056/770931 [===================>..........] - ETA: 1:15 - loss: 2.8297e-04 - mean_squared_error: 2.8297e-04"
     ]
    },
    {
     "name": "stderr",
     "output_type": "stream",
     "text": [
      "IOPub message rate exceeded.\n",
      "The notebook server will temporarily stop sending output\n",
      "to the client in order to avoid crashing it.\n",
      "To change this limit, set the config variable\n",
      "`--NotebookApp.iopub_msg_rate_limit`.\n",
      "\n",
      "Current values:\n",
      "NotebookApp.iopub_msg_rate_limit=1000.0 (msgs/sec)\n",
      "NotebookApp.rate_limit_window=3.0 (secs)\n",
      "\n"
     ]
    },
    {
     "name": "stdout",
     "output_type": "stream",
     "text": [
      "770931/770931 [==============================] - 249s 323us/step - loss: 2.8658e-04 - mean_squared_error: 2.8658e-04 - val_loss: 3.7196e-04 - val_mean_squared_error: 3.7196e-04\n",
      "\n",
      "Epoch 00022: saving model to /home/mitchellcatoen/weights.22-0.00.hdf5\n",
      "Epoch 23/200\n",
      "119488/770931 [===>..........................] - ETA: 3:26 - loss: 2.6831e-04 - mean_squared_error: 2.6831e-04"
     ]
    },
    {
     "name": "stderr",
     "output_type": "stream",
     "text": [
      "IOPub message rate exceeded.\n",
      "The notebook server will temporarily stop sending output\n",
      "to the client in order to avoid crashing it.\n",
      "To change this limit, set the config variable\n",
      "`--NotebookApp.iopub_msg_rate_limit`.\n",
      "\n",
      "Current values:\n",
      "NotebookApp.iopub_msg_rate_limit=1000.0 (msgs/sec)\n",
      "NotebookApp.rate_limit_window=3.0 (secs)\n",
      "\n"
     ]
    },
    {
     "name": "stdout",
     "output_type": "stream",
     "text": [
      "707392/770931 [==========================>...] - ETA: 20s - loss: 2.8492e-04 - mean_squared_error: 2.8492e-04"
     ]
    },
    {
     "name": "stderr",
     "output_type": "stream",
     "text": [
      "IOPub message rate exceeded.\n",
      "The notebook server will temporarily stop sending output\n",
      "to the client in order to avoid crashing it.\n",
      "To change this limit, set the config variable\n",
      "`--NotebookApp.iopub_msg_rate_limit`.\n",
      "\n",
      "Current values:\n",
      "NotebookApp.iopub_msg_rate_limit=1000.0 (msgs/sec)\n",
      "NotebookApp.rate_limit_window=3.0 (secs)\n",
      "\n"
     ]
    },
    {
     "name": "stdout",
     "output_type": "stream",
     "text": [
      "734080/770931 [===========================>..] - ETA: 11s - loss: 2.8004e-04 - mean_squared_error: 2.8004e-04"
     ]
    },
    {
     "name": "stderr",
     "output_type": "stream",
     "text": [
      "IOPub message rate exceeded.\n",
      "The notebook server will temporarily stop sending output\n",
      "to the client in order to avoid crashing it.\n",
      "To change this limit, set the config variable\n",
      "`--NotebookApp.iopub_msg_rate_limit`.\n",
      "\n",
      "Current values:\n",
      "NotebookApp.iopub_msg_rate_limit=1000.0 (msgs/sec)\n",
      "NotebookApp.rate_limit_window=3.0 (secs)\n",
      "\n"
     ]
    },
    {
     "name": "stdout",
     "output_type": "stream",
     "text": [
      "770931/770931 [==============================] - 249s 323us/step - loss: 2.7794e-04 - mean_squared_error: 2.7794e-04 - val_loss: 3.6760e-04 - val_mean_squared_error: 3.6760e-04\n",
      "\n",
      "Epoch 00026: saving model to /home/mitchellcatoen/weights.26-0.00.hdf5\n",
      "Epoch 27/200\n",
      "266304/770931 [=========>....................] - ETA: 2:39 - loss: 2.6882e-04 - mean_squared_error: 2.6882e-04"
     ]
    },
    {
     "name": "stderr",
     "output_type": "stream",
     "text": [
      "IOPub message rate exceeded.\n",
      "The notebook server will temporarily stop sending output\n",
      "to the client in order to avoid crashing it.\n",
      "To change this limit, set the config variable\n",
      "`--NotebookApp.iopub_msg_rate_limit`.\n",
      "\n",
      "Current values:\n",
      "NotebookApp.iopub_msg_rate_limit=1000.0 (msgs/sec)\n",
      "NotebookApp.rate_limit_window=3.0 (secs)\n",
      "\n"
     ]
    },
    {
     "name": "stdout",
     "output_type": "stream",
     "text": [
      "770931/770931 [==============================] - 249s 323us/step - loss: 2.7431e-04 - mean_squared_error: 2.7431e-04 - val_loss: 3.6262e-04 - val_mean_squared_error: 3.6262e-04\n",
      "\n",
      "Epoch 00027: saving model to /home/mitchellcatoen/weights.27-0.00.hdf5\n",
      "Epoch 28/200\n",
      "403264/770931 [==============>...............] - ETA: 1:56 - loss: 2.7411e-04 - mean_squared_error: 2.7411e-04"
     ]
    },
    {
     "name": "stderr",
     "output_type": "stream",
     "text": [
      "IOPub message rate exceeded.\n",
      "The notebook server will temporarily stop sending output\n",
      "to the client in order to avoid crashing it.\n",
      "To change this limit, set the config variable\n",
      "`--NotebookApp.iopub_msg_rate_limit`.\n",
      "\n",
      "Current values:\n",
      "NotebookApp.iopub_msg_rate_limit=1000.0 (msgs/sec)\n",
      "NotebookApp.rate_limit_window=3.0 (secs)\n",
      "\n"
     ]
    },
    {
     "name": "stdout",
     "output_type": "stream",
     "text": [
      "770931/770931 [==============================] - 249s 323us/step - loss: 2.7291e-04 - mean_squared_error: 2.7291e-04 - val_loss: 3.6670e-04 - val_mean_squared_error: 3.6670e-04\n",
      "\n",
      "Epoch 00028: saving model to /home/mitchellcatoen/weights.28-0.00.hdf5\n",
      "Epoch 29/200\n",
      "514240/770931 [===================>..........] - ETA: 1:21 - loss: 2.6727e-04 - mean_squared_error: 2.6727e-04"
     ]
    },
    {
     "name": "stderr",
     "output_type": "stream",
     "text": [
      "IOPub message rate exceeded.\n",
      "The notebook server will temporarily stop sending output\n",
      "to the client in order to avoid crashing it.\n",
      "To change this limit, set the config variable\n",
      "`--NotebookApp.iopub_msg_rate_limit`.\n",
      "\n",
      "Current values:\n",
      "NotebookApp.iopub_msg_rate_limit=1000.0 (msgs/sec)\n",
      "NotebookApp.rate_limit_window=3.0 (secs)\n",
      "\n"
     ]
    },
    {
     "name": "stdout",
     "output_type": "stream",
     "text": [
      "685696/770931 [=========================>....] - ETA: 26s - loss: 2.6964e-04 - mean_squared_error: 2.6964e-04"
     ]
    },
    {
     "name": "stderr",
     "output_type": "stream",
     "text": [
      "IOPub message rate exceeded.\n",
      "The notebook server will temporarily stop sending output\n",
      "to the client in order to avoid crashing it.\n",
      "To change this limit, set the config variable\n",
      "`--NotebookApp.iopub_msg_rate_limit`.\n",
      "\n",
      "Current values:\n",
      "NotebookApp.iopub_msg_rate_limit=1000.0 (msgs/sec)\n",
      "NotebookApp.rate_limit_window=3.0 (secs)\n",
      "\n"
     ]
    },
    {
     "name": "stdout",
     "output_type": "stream",
     "text": [
      "770931/770931 [==============================] - 249s 323us/step - loss: 2.6681e-04 - mean_squared_error: 2.6681e-04 - val_loss: 3.5357e-04 - val_mean_squared_error: 3.5357e-04\n",
      "\n",
      "Epoch 00031: saving model to /home/mitchellcatoen/weights.31-0.00.hdf5\n",
      "Epoch 32/200\n",
      " 80512/770931 [==>...........................] - ETA: 3:38 - loss: 2.5003e-04 - mean_squared_error: 2.5003e-04"
     ]
    },
    {
     "name": "stderr",
     "output_type": "stream",
     "text": [
      "IOPub message rate exceeded.\n",
      "The notebook server will temporarily stop sending output\n",
      "to the client in order to avoid crashing it.\n",
      "To change this limit, set the config variable\n",
      "`--NotebookApp.iopub_msg_rate_limit`.\n",
      "\n",
      "Current values:\n",
      "NotebookApp.iopub_msg_rate_limit=1000.0 (msgs/sec)\n",
      "NotebookApp.rate_limit_window=3.0 (secs)\n",
      "\n"
     ]
    },
    {
     "name": "stdout",
     "output_type": "stream",
     "text": [
      "770931/770931 [==============================] - 249s 323us/step - loss: 2.6530e-04 - mean_squared_error: 2.6530e-04 - val_loss: 3.5859e-04 - val_mean_squared_error: 3.5859e-04\n",
      "\n",
      "Epoch 00032: saving model to /home/mitchellcatoen/weights.32-0.00.hdf5\n",
      "Epoch 33/200\n",
      "770931/770931 [==============================] - 249s 323us/step - loss: 2.6462e-04 - mean_squared_error: 2.6462e-04 - val_loss: 3.5212e-04 - val_mean_squared_error: 3.5212e-04\n",
      "\n",
      "Epoch 00033: saving model to /home/mitchellcatoen/weights.33-0.00.hdf5\n",
      "Epoch 34/200\n",
      "770931/770931 [==============================] - 249s 324us/step - loss: 2.6190e-04 - mean_squared_error: 2.6190e-04 - val_loss: 3.5533e-04 - val_mean_squared_error: 3.5533e-04\n",
      "\n",
      "Epoch 00034: saving model to /home/mitchellcatoen/weights.34-0.00.hdf5\n",
      "Epoch 35/200\n",
      "770931/770931 [==============================] - 249s 323us/step - loss: 2.5993e-04 - mean_squared_error: 2.5993e-04 - val_loss: 3.5140e-04 - val_mean_squared_error: 3.5140e-04\n",
      "\n",
      "Epoch 00035: saving model to /home/mitchellcatoen/weights.35-0.00.hdf5\n",
      "Epoch 36/200\n",
      "364672/770931 [=============>................] - ETA: 2:08 - loss: 2.4984e-04 - mean_squared_error: 2.4984e-04"
     ]
    },
    {
     "name": "stderr",
     "output_type": "stream",
     "text": [
      "IOPub message rate exceeded.\n",
      "The notebook server will temporarily stop sending output\n",
      "to the client in order to avoid crashing it.\n",
      "To change this limit, set the config variable\n",
      "`--NotebookApp.iopub_msg_rate_limit`.\n",
      "\n",
      "Current values:\n",
      "NotebookApp.iopub_msg_rate_limit=1000.0 (msgs/sec)\n",
      "NotebookApp.rate_limit_window=3.0 (secs)\n",
      "\n"
     ]
    },
    {
     "name": "stdout",
     "output_type": "stream",
     "text": [
      "770931/770931 [==============================] - 247s 321us/step - loss: 2.5799e-04 - mean_squared_error: 2.5799e-04 - val_loss: 3.5673e-04 - val_mean_squared_error: 3.5673e-04\n",
      "\n",
      "Epoch 00036: saving model to /home/mitchellcatoen/weights.36-0.00.hdf5\n",
      "Epoch 37/200\n",
      "477952/770931 [=================>............] - ETA: 1:31 - loss: 2.5144e-04 - mean_squared_error: 2.5144e-04"
     ]
    },
    {
     "name": "stderr",
     "output_type": "stream",
     "text": [
      "IOPub message rate exceeded.\n",
      "The notebook server will temporarily stop sending output\n",
      "to the client in order to avoid crashing it.\n",
      "To change this limit, set the config variable\n",
      "`--NotebookApp.iopub_msg_rate_limit`.\n",
      "\n",
      "Current values:\n",
      "NotebookApp.iopub_msg_rate_limit=1000.0 (msgs/sec)\n",
      "NotebookApp.rate_limit_window=3.0 (secs)\n",
      "\n"
     ]
    },
    {
     "name": "stdout",
     "output_type": "stream",
     "text": [
      "676288/770931 [=========================>....] - ETA: 29s - loss: 2.5507e-04 - mean_squared_error: 2.5507e-04"
     ]
    },
    {
     "name": "stderr",
     "output_type": "stream",
     "text": [
      "IOPub message rate exceeded.\n",
      "The notebook server will temporarily stop sending output\n",
      "to the client in order to avoid crashing it.\n",
      "To change this limit, set the config variable\n",
      "`--NotebookApp.iopub_msg_rate_limit`.\n",
      "\n",
      "Current values:\n",
      "NotebookApp.iopub_msg_rate_limit=1000.0 (msgs/sec)\n",
      "NotebookApp.rate_limit_window=3.0 (secs)\n",
      "\n"
     ]
    },
    {
     "name": "stdout",
     "output_type": "stream",
     "text": [
      "770931/770931 [==============================] - 249s 323us/step - loss: 2.5403e-04 - mean_squared_error: 2.5403e-04 - val_loss: 3.4138e-04 - val_mean_squared_error: 3.4138e-04\n",
      "\n",
      "Epoch 00039: saving model to /home/mitchellcatoen/weights.39-0.00.hdf5\n",
      "Epoch 40/200\n",
      " 96832/770931 [==>...........................] - ETA: 3:33 - loss: 2.4291e-04 - mean_squared_error: 2.4291e-04"
     ]
    },
    {
     "name": "stderr",
     "output_type": "stream",
     "text": [
      "IOPub message rate exceeded.\n",
      "The notebook server will temporarily stop sending output\n",
      "to the client in order to avoid crashing it.\n",
      "To change this limit, set the config variable\n",
      "`--NotebookApp.iopub_msg_rate_limit`.\n",
      "\n",
      "Current values:\n",
      "NotebookApp.iopub_msg_rate_limit=1000.0 (msgs/sec)\n",
      "NotebookApp.rate_limit_window=3.0 (secs)\n",
      "\n"
     ]
    },
    {
     "name": "stdout",
     "output_type": "stream",
     "text": [
      "770931/770931 [==============================] - 249s 323us/step - loss: 2.5373e-04 - mean_squared_error: 2.5373e-04 - val_loss: 3.4489e-04 - val_mean_squared_error: 3.4489e-04\n",
      "\n",
      "Epoch 00040: saving model to /home/mitchellcatoen/weights.40-0.00.hdf5\n",
      "Epoch 41/200\n",
      "198976/770931 [======>.......................] - ETA: 3:01 - loss: 2.4807e-04 - mean_squared_error: 2.4807e-04"
     ]
    },
    {
     "name": "stderr",
     "output_type": "stream",
     "text": [
      "IOPub message rate exceeded.\n",
      "The notebook server will temporarily stop sending output\n",
      "to the client in order to avoid crashing it.\n",
      "To change this limit, set the config variable\n",
      "`--NotebookApp.iopub_msg_rate_limit`.\n",
      "\n",
      "Current values:\n",
      "NotebookApp.iopub_msg_rate_limit=1000.0 (msgs/sec)\n",
      "NotebookApp.rate_limit_window=3.0 (secs)\n",
      "\n"
     ]
    },
    {
     "name": "stdout",
     "output_type": "stream",
     "text": [
      "770931/770931 [==============================] - 249s 323us/step - loss: 2.5260e-04 - mean_squared_error: 2.5260e-04 - val_loss: 3.3664e-04 - val_mean_squared_error: 3.3664e-04\n",
      "\n",
      "Epoch 00041: saving model to /home/mitchellcatoen/weights.41-0.00.hdf5\n",
      "Epoch 42/200\n",
      "374464/770931 [=============>................] - ETA: 2:05 - loss: 2.4309e-04 - mean_squared_error: 2.4309e-04"
     ]
    },
    {
     "name": "stderr",
     "output_type": "stream",
     "text": [
      "IOPub message rate exceeded.\n",
      "The notebook server will temporarily stop sending output\n",
      "to the client in order to avoid crashing it.\n",
      "To change this limit, set the config variable\n",
      "`--NotebookApp.iopub_msg_rate_limit`.\n",
      "\n",
      "Current values:\n",
      "NotebookApp.iopub_msg_rate_limit=1000.0 (msgs/sec)\n",
      "NotebookApp.rate_limit_window=3.0 (secs)\n",
      "\n"
     ]
    },
    {
     "name": "stdout",
     "output_type": "stream",
     "text": [
      "770931/770931 [==============================] - 249s 323us/step - loss: 2.5022e-04 - mean_squared_error: 2.5022e-04 - val_loss: 3.4039e-04 - val_mean_squared_error: 3.4039e-04\n",
      "\n",
      "Epoch 00042: saving model to /home/mitchellcatoen/weights.42-0.00.hdf5\n",
      "Epoch 43/200\n",
      "770931/770931 [==============================] - 246s 320us/step - loss: 2.4971e-04 - mean_squared_error: 2.4971e-04 - val_loss: 3.5897e-04 - val_mean_squared_error: 3.5897e-04\n",
      "\n",
      "Epoch 00043: saving model to /home/mitchellcatoen/weights.43-0.00.hdf5\n",
      "Epoch 44/200\n",
      "402304/770931 [==============>...............] - ETA: 1:56 - loss: 2.4553e-04 - mean_squared_error: 2.4553e-04"
     ]
    },
    {
     "name": "stderr",
     "output_type": "stream",
     "text": [
      "IOPub message rate exceeded.\n",
      "The notebook server will temporarily stop sending output\n",
      "to the client in order to avoid crashing it.\n",
      "To change this limit, set the config variable\n",
      "`--NotebookApp.iopub_msg_rate_limit`.\n",
      "\n",
      "Current values:\n",
      "NotebookApp.iopub_msg_rate_limit=1000.0 (msgs/sec)\n",
      "NotebookApp.rate_limit_window=3.0 (secs)\n",
      "\n"
     ]
    },
    {
     "name": "stdout",
     "output_type": "stream",
     "text": [
      "770931/770931 [==============================] - 249s 322us/step - loss: 2.4877e-04 - mean_squared_error: 2.4877e-04 - val_loss: 3.3750e-04 - val_mean_squared_error: 3.3750e-04\n",
      "\n",
      "Epoch 00044: saving model to /home/mitchellcatoen/weights.44-0.00.hdf5\n",
      "Epoch 45/200\n",
      "457600/770931 [================>.............] - ETA: 1:39 - loss: 2.4631e-04 - mean_squared_error: 2.4631e-04"
     ]
    },
    {
     "name": "stderr",
     "output_type": "stream",
     "text": [
      "IOPub message rate exceeded.\n",
      "The notebook server will temporarily stop sending output\n",
      "to the client in order to avoid crashing it.\n",
      "To change this limit, set the config variable\n",
      "`--NotebookApp.iopub_msg_rate_limit`.\n",
      "\n",
      "Current values:\n",
      "NotebookApp.iopub_msg_rate_limit=1000.0 (msgs/sec)\n",
      "NotebookApp.rate_limit_window=3.0 (secs)\n",
      "\n"
     ]
    },
    {
     "name": "stdout",
     "output_type": "stream",
     "text": [
      "579264/770931 [=====================>........] - ETA: 1:00 - loss: 2.4446e-04 - mean_squared_error: 2.4446e-04"
     ]
    },
    {
     "name": "stderr",
     "output_type": "stream",
     "text": [
      "IOPub message rate exceeded.\n",
      "The notebook server will temporarily stop sending output\n",
      "to the client in order to avoid crashing it.\n",
      "To change this limit, set the config variable\n",
      "`--NotebookApp.iopub_msg_rate_limit`.\n",
      "\n",
      "Current values:\n",
      "NotebookApp.iopub_msg_rate_limit=1000.0 (msgs/sec)\n",
      "NotebookApp.rate_limit_window=3.0 (secs)\n",
      "\n"
     ]
    },
    {
     "name": "stdout",
     "output_type": "stream",
     "text": [
      "766912/770931 [============================>.] - ETA: 1s - loss: 2.4506e-04 - mean_squared_error: 2.4506e-04"
     ]
    },
    {
     "name": "stderr",
     "output_type": "stream",
     "text": [
      "IOPub message rate exceeded.\n",
      "The notebook server will temporarily stop sending output\n",
      "to the client in order to avoid crashing it.\n",
      "To change this limit, set the config variable\n",
      "`--NotebookApp.iopub_msg_rate_limit`.\n",
      "\n",
      "Current values:\n",
      "NotebookApp.iopub_msg_rate_limit=1000.0 (msgs/sec)\n",
      "NotebookApp.rate_limit_window=3.0 (secs)\n",
      "\n"
     ]
    },
    {
     "name": "stdout",
     "output_type": "stream",
     "text": [
      "770931/770931 [==============================] - 249s 323us/step - loss: 2.4492e-04 - mean_squared_error: 2.4492e-04 - val_loss: 3.3310e-04 - val_mean_squared_error: 3.3310e-04\n",
      "\n",
      "Epoch 00048: saving model to /home/mitchellcatoen/weights.48-0.00.hdf5\n",
      "Epoch 49/200\n",
      " 85504/770931 [==>...........................] - ETA: 3:37 - loss: 2.4632e-04 - mean_squared_error: 2.4632e-04"
     ]
    },
    {
     "name": "stderr",
     "output_type": "stream",
     "text": [
      "IOPub message rate exceeded.\n",
      "The notebook server will temporarily stop sending output\n",
      "to the client in order to avoid crashing it.\n",
      "To change this limit, set the config variable\n",
      "`--NotebookApp.iopub_msg_rate_limit`.\n",
      "\n",
      "Current values:\n",
      "NotebookApp.iopub_msg_rate_limit=1000.0 (msgs/sec)\n",
      "NotebookApp.rate_limit_window=3.0 (secs)\n",
      "\n"
     ]
    },
    {
     "name": "stdout",
     "output_type": "stream",
     "text": [
      "770931/770931 [==============================] - 250s 324us/step - loss: 2.4469e-04 - mean_squared_error: 2.4469e-04 - val_loss: 3.3008e-04 - val_mean_squared_error: 3.3008e-04\n",
      "\n",
      "Epoch 00049: saving model to /home/mitchellcatoen/weights.49-0.00.hdf5\n",
      "Epoch 50/200\n",
      "770931/770931 [==============================] - 249s 324us/step - loss: 2.4348e-04 - mean_squared_error: 2.4348e-04 - val_loss: 3.3457e-04 - val_mean_squared_error: 3.3457e-04\n",
      "\n",
      "Epoch 00050: saving model to /home/mitchellcatoen/weights.50-0.00.hdf5\n",
      "Epoch 51/200\n",
      "770931/770931 [==============================] - 250s 324us/step - loss: 2.4325e-04 - mean_squared_error: 2.4325e-04 - val_loss: 3.4136e-04 - val_mean_squared_error: 3.4136e-04\n",
      "\n",
      "Epoch 00051: saving model to /home/mitchellcatoen/weights.51-0.00.hdf5\n",
      "Epoch 52/200\n",
      "770931/770931 [==============================] - 248s 322us/step - loss: 2.4131e-04 - mean_squared_error: 2.4131e-04 - val_loss: 3.3798e-04 - val_mean_squared_error: 3.3798e-04\n",
      "\n",
      "Epoch 00052: saving model to /home/mitchellcatoen/weights.52-0.00.hdf5\n",
      "Epoch 53/200\n",
      "770931/770931 [==============================] - 247s 321us/step - loss: 2.4111e-04 - mean_squared_error: 2.4111e-04 - val_loss: 3.5932e-04 - val_mean_squared_error: 3.5932e-04\n",
      "\n",
      "Epoch 00053: saving model to /home/mitchellcatoen/weights.53-0.00.hdf5\n",
      "Epoch 54/200\n",
      "770931/770931 [==============================] - 250s 324us/step - loss: 2.4044e-04 - mean_squared_error: 2.4044e-04 - val_loss: 3.2460e-04 - val_mean_squared_error: 3.2460e-04\n",
      "\n",
      "Epoch 00054: saving model to /home/mitchellcatoen/weights.54-0.00.hdf5\n",
      "Epoch 55/200\n",
      "770931/770931 [==============================] - 250s 324us/step - loss: 2.4015e-04 - mean_squared_error: 2.4015e-04 - val_loss: 3.2828e-04 - val_mean_squared_error: 3.2828e-04\n",
      "\n",
      "Epoch 00055: saving model to /home/mitchellcatoen/weights.55-0.00.hdf5\n",
      "Epoch 56/200\n",
      "770931/770931 [==============================] - 248s 322us/step - loss: 2.3919e-04 - mean_squared_error: 2.3919e-04 - val_loss: 3.2723e-04 - val_mean_squared_error: 3.2723e-04\n",
      "\n",
      "Epoch 00056: saving model to /home/mitchellcatoen/weights.56-0.00.hdf5\n",
      "Epoch 57/200\n",
      "770931/770931 [==============================] - 249s 323us/step - loss: 2.3819e-04 - mean_squared_error: 2.3819e-04 - val_loss: 3.2255e-04 - val_mean_squared_error: 3.2255e-04\n",
      "\n",
      "Epoch 00057: saving model to /home/mitchellcatoen/weights.57-0.00.hdf5\n",
      "Epoch 58/200\n",
      "770931/770931 [==============================] - 246s 320us/step - loss: 2.3818e-04 - mean_squared_error: 2.3818e-04 - val_loss: 3.2567e-04 - val_mean_squared_error: 3.2567e-04\n",
      "\n",
      "Epoch 00058: saving model to /home/mitchellcatoen/weights.58-0.00.hdf5\n",
      "Epoch 59/200\n",
      "770931/770931 [==============================] - 249s 323us/step - loss: 2.3724e-04 - mean_squared_error: 2.3724e-04 - val_loss: 3.1777e-04 - val_mean_squared_error: 3.1777e-04\n",
      "\n",
      "Epoch 00059: saving model to /home/mitchellcatoen/weights.59-0.00.hdf5\n",
      "Epoch 60/200\n",
      "770931/770931 [==============================] - 249s 323us/step - loss: 2.3643e-04 - mean_squared_error: 2.3643e-04 - val_loss: 3.2596e-04 - val_mean_squared_error: 3.2596e-04\n",
      "\n",
      "Epoch 00060: saving model to /home/mitchellcatoen/weights.60-0.00.hdf5\n",
      "Epoch 61/200\n",
      "770931/770931 [==============================] - 247s 321us/step - loss: 2.3564e-04 - mean_squared_error: 2.3564e-04 - val_loss: 3.2368e-04 - val_mean_squared_error: 3.2368e-04\n",
      "\n",
      "Epoch 00061: saving model to /home/mitchellcatoen/weights.61-0.00.hdf5\n",
      "Epoch 62/200\n",
      "770931/770931 [==============================] - 249s 323us/step - loss: 2.3572e-04 - mean_squared_error: 2.3572e-04 - val_loss: 3.2549e-04 - val_mean_squared_error: 3.2549e-04\n",
      "\n",
      "Epoch 00062: saving model to /home/mitchellcatoen/weights.62-0.00.hdf5\n",
      "Epoch 63/200\n",
      "770931/770931 [==============================] - 250s 324us/step - loss: 2.3486e-04 - mean_squared_error: 2.3486e-04 - val_loss: 3.1794e-04 - val_mean_squared_error: 3.1794e-04\n",
      "\n",
      "Epoch 00063: saving model to /home/mitchellcatoen/weights.63-0.00.hdf5\n",
      "Epoch 64/200\n",
      "770931/770931 [==============================] - 249s 323us/step - loss: 2.3443e-04 - mean_squared_error: 2.3443e-04 - val_loss: 3.5408e-04 - val_mean_squared_error: 3.5408e-04\n",
      "\n",
      "Epoch 00064: saving model to /home/mitchellcatoen/weights.64-0.00.hdf5\n",
      "Epoch 65/200\n",
      "770931/770931 [==============================] - 249s 323us/step - loss: 2.3335e-04 - mean_squared_error: 2.3335e-04 - val_loss: 3.2384e-04 - val_mean_squared_error: 3.2384e-04\n",
      "\n",
      "Epoch 00065: saving model to /home/mitchellcatoen/weights.65-0.00.hdf5\n",
      "Epoch 66/200\n",
      "770931/770931 [==============================] - 250s 324us/step - loss: 2.3250e-04 - mean_squared_error: 2.3250e-04 - val_loss: 3.1193e-04 - val_mean_squared_error: 3.1193e-04\n",
      "\n",
      "Epoch 00066: saving model to /home/mitchellcatoen/weights.66-0.00.hdf5\n",
      "Epoch 67/200\n",
      "770931/770931 [==============================] - 246s 319us/step - loss: 2.3288e-04 - mean_squared_error: 2.3288e-04 - val_loss: 3.2576e-04 - val_mean_squared_error: 3.2576e-04\n",
      "\n",
      "Epoch 00067: saving model to /home/mitchellcatoen/weights.67-0.00.hdf5\n",
      "Epoch 68/200\n",
      "770931/770931 [==============================] - 237s 307us/step - loss: 2.3231e-04 - mean_squared_error: 2.3231e-04 - val_loss: 3.3128e-04 - val_mean_squared_error: 3.3128e-04\n",
      "\n",
      "Epoch 00068: saving model to /home/mitchellcatoen/weights.68-0.00.hdf5\n",
      "Epoch 69/200\n",
      "770931/770931 [==============================] - 237s 307us/step - loss: 2.3185e-04 - mean_squared_error: 2.3185e-04 - val_loss: 3.1164e-04 - val_mean_squared_error: 3.1164e-04\n",
      "\n",
      "Epoch 00069: saving model to /home/mitchellcatoen/weights.69-0.00.hdf5\n",
      "Epoch 70/200\n",
      "770931/770931 [==============================] - 236s 306us/step - loss: 2.3174e-04 - mean_squared_error: 2.3174e-04 - val_loss: 3.1440e-04 - val_mean_squared_error: 3.1440e-04\n",
      "\n",
      "Epoch 00070: saving model to /home/mitchellcatoen/weights.70-0.00.hdf5\n",
      "Epoch 71/200\n",
      "770931/770931 [==============================] - 236s 307us/step - loss: 2.3195e-04 - mean_squared_error: 2.3195e-04 - val_loss: 3.2940e-04 - val_mean_squared_error: 3.2940e-04\n",
      "\n",
      "Epoch 00071: saving model to /home/mitchellcatoen/weights.71-0.00.hdf5\n",
      "Epoch 72/200\n",
      "770931/770931 [==============================] - 237s 307us/step - loss: 2.3079e-04 - mean_squared_error: 2.3079e-04 - val_loss: 3.2378e-04 - val_mean_squared_error: 3.2378e-04\n",
      "\n",
      "Epoch 00072: saving model to /home/mitchellcatoen/weights.72-0.00.hdf5\n",
      "Epoch 73/200\n",
      "770931/770931 [==============================] - 236s 306us/step - loss: 2.2998e-04 - mean_squared_error: 2.2998e-04 - val_loss: 3.0946e-04 - val_mean_squared_error: 3.0946e-04\n",
      "\n",
      "Epoch 00073: saving model to /home/mitchellcatoen/weights.73-0.00.hdf5\n",
      "Epoch 74/200\n",
      "770931/770931 [==============================] - 237s 307us/step - loss: 2.2949e-04 - mean_squared_error: 2.2949e-04 - val_loss: 3.1125e-04 - val_mean_squared_error: 3.1125e-04\n",
      "\n",
      "Epoch 00074: saving model to /home/mitchellcatoen/weights.74-0.00.hdf5\n",
      "Epoch 75/200\n",
      "770931/770931 [==============================] - 237s 307us/step - loss: 2.2992e-04 - mean_squared_error: 2.2992e-04 - val_loss: 3.1658e-04 - val_mean_squared_error: 3.1658e-04\n",
      "\n",
      "Epoch 00075: saving model to /home/mitchellcatoen/weights.75-0.00.hdf5\n",
      "Epoch 76/200\n",
      "770931/770931 [==============================] - 237s 307us/step - loss: 2.2963e-04 - mean_squared_error: 2.2963e-04 - val_loss: 3.1395e-04 - val_mean_squared_error: 3.1395e-04\n",
      "\n",
      "Epoch 00076: saving model to /home/mitchellcatoen/weights.76-0.00.hdf5\n",
      "Epoch 77/200\n",
      "770931/770931 [==============================] - 236s 307us/step - loss: 2.2895e-04 - mean_squared_error: 2.2895e-04 - val_loss: 3.1309e-04 - val_mean_squared_error: 3.1309e-04\n",
      "\n",
      "Epoch 00077: saving model to /home/mitchellcatoen/weights.77-0.00.hdf5\n",
      "Epoch 78/200\n",
      "770931/770931 [==============================] - 237s 307us/step - loss: 2.2920e-04 - mean_squared_error: 2.2920e-04 - val_loss: 3.0715e-04 - val_mean_squared_error: 3.0715e-04\n",
      "\n",
      "Epoch 00078: saving model to /home/mitchellcatoen/weights.78-0.00.hdf5\n",
      "Epoch 79/200\n",
      "770931/770931 [==============================] - 237s 307us/step - loss: 2.2752e-04 - mean_squared_error: 2.2752e-04 - val_loss: 3.1010e-04 - val_mean_squared_error: 3.1010e-04\n",
      "\n",
      "Epoch 00079: saving model to /home/mitchellcatoen/weights.79-0.00.hdf5\n",
      "Epoch 80/200\n"
     ]
    },
    {
     "name": "stdout",
     "output_type": "stream",
     "text": [
      "770931/770931 [==============================] - 237s 307us/step - loss: 2.2716e-04 - mean_squared_error: 2.2716e-04 - val_loss: 3.1239e-04 - val_mean_squared_error: 3.1239e-04\n",
      "\n",
      "Epoch 00080: saving model to /home/mitchellcatoen/weights.80-0.00.hdf5\n",
      "Epoch 81/200\n",
      "770931/770931 [==============================] - 237s 307us/step - loss: 2.2819e-04 - mean_squared_error: 2.2819e-04 - val_loss: 3.1202e-04 - val_mean_squared_error: 3.1202e-04\n",
      "\n",
      "Epoch 00081: saving model to /home/mitchellcatoen/weights.81-0.00.hdf5\n",
      "Epoch 82/200\n",
      "770931/770931 [==============================] - 236s 306us/step - loss: 2.2882e-04 - mean_squared_error: 2.2882e-04 - val_loss: 3.6600e-04 - val_mean_squared_error: 3.6600e-04\n",
      "\n",
      "Epoch 00082: saving model to /home/mitchellcatoen/weights.82-0.00.hdf5\n",
      "Epoch 83/200\n",
      "770931/770931 [==============================] - 237s 307us/step - loss: 2.2625e-04 - mean_squared_error: 2.2625e-04 - val_loss: 3.1035e-04 - val_mean_squared_error: 3.1035e-04\n",
      "\n",
      "Epoch 00083: saving model to /home/mitchellcatoen/weights.83-0.00.hdf5\n",
      "Epoch 84/200\n",
      "770931/770931 [==============================] - 237s 307us/step - loss: 2.2821e-04 - mean_squared_error: 2.2821e-04 - val_loss: 3.0709e-04 - val_mean_squared_error: 3.0709e-04\n",
      "\n",
      "Epoch 00084: saving model to /home/mitchellcatoen/weights.84-0.00.hdf5\n",
      "Epoch 85/200\n",
      "770931/770931 [==============================] - 237s 307us/step - loss: 2.2709e-04 - mean_squared_error: 2.2709e-04 - val_loss: 3.0630e-04 - val_mean_squared_error: 3.0630e-04\n",
      "\n",
      "Epoch 00085: saving model to /home/mitchellcatoen/weights.85-0.00.hdf5\n",
      "Epoch 86/200\n",
      " 21568/770931 [..............................] - ETA: 3:47 - loss: 2.1367e-04 - mean_squared_error: 2.1367e-04"
     ]
    }
   ],
   "source": [
    "model.fit(dataset_x, dataset_y, epochs=200, batch_size=64, callbacks=callbacks, validation_split=0.1)"
   ]
  },
  {
   "cell_type": "code",
   "execution_count": 28,
   "metadata": {},
   "outputs": [
    {
     "name": "stdout",
     "output_type": "stream",
     "text": [
      "7110/7110 [==============================] - 0s 61us/step\n",
      "[0.0015044477707988016, 0.0015044477707988016]\n"
     ]
    }
   ],
   "source": [
    "score = model.evaluate(dataset_x, dataset_y, batch_size=64)\n",
    "print(score)"
   ]
  },
  {
   "cell_type": "code",
   "execution_count": 29,
   "metadata": {},
   "outputs": [
    {
     "name": "stdout",
     "output_type": "stream",
     "text": [
      "[[0.50590014]] 0.5142857142857142\n",
      "[[0.48962843]] 0.4714285714285714\n",
      "[[0.5254903]] 0.5428571428571428\n",
      "[[0.47565675]] 0.44285714285714284\n",
      "[[0.540834]] 0.5714285714285714\n",
      "[[0.45788556]] 0.41428571428571426\n",
      "[[0.56273574]] 0.6\n",
      "[[0.4388967]] 0.38571428571428573\n",
      "[[0.6112258]] 0.6285714285714286\n",
      "[[0.4060839]] 0.35714285714285715\n"
     ]
    }
   ],
   "source": [
    "for i in range(10):\n",
    "    output = model.predict(np.reshape(dataset_x[i], (1, 8, 8, 13)))\n",
    "    print(output, dataset_y[i])"
   ]
  },
  {
   "cell_type": "code",
   "execution_count": null,
   "metadata": {},
   "outputs": [],
   "source": [
    "'''Trains a simple convnet on the MNIST dataset.\n",
    "Gets to 99.25% test accuracy after 12 epochs\n",
    "(there is still a lot of margin for parameter tuning).\n",
    "16 seconds per epoch on a GRID K520 GPU.\n",
    "'''\n",
    "\n",
    "from __future__ import print_function\n",
    "import keras\n",
    "from keras.datasets import mnist\n",
    "from keras.models import Sequential\n",
    "from keras.layers import Dense, Dropout, Flatten\n",
    "from keras.layers import Conv2D, MaxPooling2D\n",
    "from keras import backend as K\n",
    "\n",
    "batch_size = 128\n",
    "num_classes = 10\n",
    "epochs = 12\n",
    "\n",
    "# input image dimensions\n",
    "img_rows, img_cols = 28, 28\n",
    "\n",
    "# the data, split between train and test sets\n",
    "(x_train, y_train), (x_test, y_test) = mnist.load_data()\n",
    "\n",
    "if K.image_data_format() == 'channels_first':\n",
    "    x_train = x_train.reshape(x_train.shape[0], 1, img_rows, img_cols)\n",
    "    x_test = x_test.reshape(x_test.shape[0], 1, img_rows, img_cols)\n",
    "    input_shape = (1, img_rows, img_cols)\n",
    "else:\n",
    "    x_train = x_train.reshape(x_train.shape[0], img_rows, img_cols, 1)\n",
    "    x_test = x_test.reshape(x_test.shape[0], img_rows, img_cols, 1)\n",
    "    input_shape = (img_rows, img_cols, 1)\n",
    "\n",
    "x_train = x_train.astype('float32')\n",
    "x_test = x_test.astype('float32')\n",
    "x_train /= 255\n",
    "x_test /= 255\n",
    "print('x_train shape:', x_train.shape)\n",
    "print(x_train.shape[0], 'train samples')\n",
    "print(x_test.shape[0], 'test samples')\n",
    "print(input_shape)\n",
    "\n",
    "# # convert class vectors to binary class matrices\n",
    "# y_train = keras.utils.to_categorical(y_train, num_classes)\n",
    "# y_test = keras.utils.to_categorical(y_test, num_classes)\n",
    "\n",
    "# model = Sequential()\n",
    "# model.add(Conv2D(32, kernel_size=(3, 3),\n",
    "#                  activation='relu',\n",
    "#                  input_shape=input_shape))\n",
    "# model.add(Conv2D(64, (3, 3), activation='relu'))\n",
    "# model.add(MaxPooling2D(pool_size=(2, 2)))\n",
    "# model.add(Dropout(0.25))\n",
    "# model.add(Flatten())\n",
    "# model.add(Dense(128, activation='relu'))\n",
    "# model.add(Dropout(0.5))\n",
    "# model.add(Dense(num_classes, activation='softmax'))\n",
    "\n",
    "# model.compile(loss=keras.losses.categorical_crossentropy,\n",
    "#               optimizer=keras.optimizers.Adadelta(),\n",
    "#               metrics=['accuracy'])\n",
    "\n",
    "# model.fit(x_train, y_train,\n",
    "#           batch_size=batch_size,\n",
    "#           epochs=epochs,\n",
    "#           verbose=1,\n",
    "#           validation_data=(x_test, y_test))\n",
    "# score = model.evaluate(x_test, y_test, verbose=0)\n",
    "# print('Test loss:', score[0])\n",
    "# print('Test accuracy:', score[1])\n",
    "\n",
    "# # print(x_train[0])\n",
    "# # print(y_train.shape)"
   ]
  },
  {
   "cell_type": "code",
   "execution_count": null,
   "metadata": {},
   "outputs": [],
   "source": [
    "import os\n",
    "cwd = os.getcwd()\n",
    "cwd"
   ]
  },
  {
   "cell_type": "code",
   "execution_count": null,
   "metadata": {},
   "outputs": [],
   "source": [
    "dataset_y[0]"
   ]
  },
  {
   "cell_type": "code",
   "execution_count": null,
   "metadata": {},
   "outputs": [],
   "source": []
  }
 ],
 "metadata": {
  "kernelspec": {
   "display_name": "Python 3",
   "language": "python",
   "name": "python3"
  },
  "language_info": {
   "codemirror_mode": {
    "name": "ipython",
    "version": 3
   },
   "file_extension": ".py",
   "mimetype": "text/x-python",
   "name": "python",
   "nbconvert_exporter": "python",
   "pygments_lexer": "ipython3",
   "version": "3.5.3"
  }
 },
 "nbformat": 4,
 "nbformat_minor": 2
}
