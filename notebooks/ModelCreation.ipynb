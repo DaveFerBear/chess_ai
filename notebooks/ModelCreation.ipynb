{
 "cells": [
  {
   "cell_type": "code",
   "execution_count": 22,
   "metadata": {},
   "outputs": [],
   "source": [
    "import chess.pgn\n",
    "import time\n",
    "import sys\n",
    "import math\n",
    "import numpy as np"
   ]
  },
  {
   "cell_type": "code",
   "execution_count": 35,
   "metadata": {},
   "outputs": [],
   "source": [
    "BOARD_SPACES = 64\n",
    "ROWS = 8\n",
    "COLS = 8\n",
    "\n",
    "letter_lookup = {\n",
    "    'a':0,\n",
    "    'b':1,\n",
    "    'c':2,\n",
    "    'd':3,\n",
    "    'e':4,\n",
    "    'f':5,\n",
    "    'g':6,\n",
    "    'h':7\n",
    "}\n",
    "piece_lookup = {\n",
    "    'r':1,\n",
    "    'n':2,\n",
    "    'b':3,\n",
    "    'q':4,\n",
    "    'k':5,\n",
    "    'p':6,\n",
    "    'R':7,\n",
    "    'N':8,\n",
    "    'B':9,\n",
    "    'Q':10,\n",
    "    'K':11,\n",
    "    'P':12,\n",
    "    '.':0\n",
    "}"
   ]
  },
  {
   "cell_type": "code",
   "execution_count": 53,
   "metadata": {
    "scrolled": true
   },
   "outputs": [
    {
     "name": "stdout",
     "output_type": "stream",
     "text": [
      "[1, 2, 3, 4, 5, 3, 2, 1, 6, 6, 6, 6, 6, 6, 6, 6, 0, 0, 0, 0, 0, 0, 0, 0, 0, 0, 0, 0, 0, 0, 0, 0, 0, 0, 0, 0, 0, 0, 0, 0, 0, 0, 0, 0, 0, 0, 0, 0, 12, 12, 12, 12, 12, 12, 12, 12, 7, 8, 9, 10, 11, 9, 8, 7]\n",
      "[0. 0. 0. 0. 0. 0. 0. 0. 0. 0. 0. 0. 0. 0. 0. 0. 0. 0. 0. 0. 0. 0. 0. 0.\n",
      " 0. 0. 0. 0. 0. 0. 0. 0. 0. 1. 0. 0. 0. 0. 0. 0. 0. 0. 0. 0. 0. 0. 0. 0.\n",
      " 0. 0. 0. 0. 0. 0. 0. 0. 0. 0. 0. 0. 0. 0. 0. 0. 0. 0. 0. 0. 0. 0. 0. 0.\n",
      " 0. 0. 0. 0. 0. 0. 0. 0. 0. 0. 0. 0. 0. 0. 0. 0. 0. 0. 0. 0. 0. 0. 0. 0.\n",
      " 0. 0. 0. 1. 0. 0. 0. 0. 0. 0. 0. 0. 0. 0. 0. 0. 0. 0. 0. 0. 0. 0. 0. 0.\n",
      " 0. 0. 0. 0. 0. 0. 0. 0.]\n"
     ]
    }
   ],
   "source": [
    "# Format of Dataset\n",
    "# [\n",
    "#   [0 0 0 0 0 0]\n",
    "#   [0 0 0 0 0 0]\n",
    "#        ...\n",
    "#   [0 0 0 0 0 0],\n",
    "#   12, 18\n",
    "\n",
    "wdataset_x = []\n",
    "wdataset_y = []\n",
    "bdataset_x = []\n",
    "bdataset_y = []\n",
    "\n",
    "posns = []\n",
    "\n",
    "pgn = open(\"datasets/Adams.pgn\")\n",
    "game = chess.pgn.read_game(pgn)\n",
    "board = game.board()\n",
    "black_or_white = True\n",
    "count = 0\n",
    "\n",
    "while game != None:\n",
    "#     print(count)\n",
    "    count += 1\n",
    "#     if count >= 100:\n",
    "#         break\n",
    "\n",
    "    for move in game.mainline_moves():\n",
    "        dp = []\n",
    "        \n",
    "        # Create a one-hot label for the move\n",
    "        label = np.zeros(BOARD_SPACES*2)\n",
    "        pos1 = str(move)[:2]\n",
    "        pos1 = ROWS*letter_lookup[pos1[0]] + int(pos1[1])-1\n",
    "        label[pos1] = 1\n",
    "        pos2 = str(move)[2:]\n",
    "        pos2 = ROWS*letter_lookup[pos2[0]] + int(pos2[1])-1\n",
    "        label[(BOARD_SPACES) + pos2] = 1\n",
    "        \n",
    "        posns.append((pos1, pos2))\n",
    "        \n",
    "        # Turn the board into a vector\n",
    "        strboard = str(board)\n",
    "        board_data = []\n",
    "        for char in strboard:\n",
    "            if char in piece_lookup:\n",
    "                board_data.append(piece_lookup[char])\n",
    "        \n",
    "        if black_or_white:\n",
    "            wdataset_x.append(board_data)\n",
    "            wdataset_y.append(label)\n",
    "        else:\n",
    "            bdataset_x.append(board_data)\n",
    "            bdataset_y.append(label)\n",
    "            \n",
    "        black_or_white = not black_or_white\n",
    "        board.push(move)\n",
    "    game = chess.pgn.read_game(pgn)\n",
    "\n",
    "print(wdataset_x[0])\n",
    "print(wdataset_y[0])"
   ]
  },
  {
   "cell_type": "code",
   "execution_count": 75,
   "metadata": {},
   "outputs": [
    {
     "name": "stdout",
     "output_type": "stream",
     "text": [
      "(129911, 64) 128\n"
     ]
    }
   ],
   "source": [
    "wdataset_x = np.array(wdataset_x)\n",
    "wdataset_x = wdataset_x.reshape(len(wdataset_x), 64)\n",
    "wdataset_y = np.array(wdataset_y)\n",
    "\n",
    "inshape = wdataset_x[0].shape\n",
    "outshape = wdataset_y[0].size\n",
    "print(wdataset_x.shape, outshape)"
   ]
  },
  {
   "cell_type": "code",
   "execution_count": 76,
   "metadata": {},
   "outputs": [],
   "source": [
    "from keras.models import Sequential\n",
    "from keras.layers import Dense, Dropout, Activation, Flatten\n",
    "from keras.layers import Conv2D, MaxPooling2D\n",
    "from keras.optimizers import SGD"
   ]
  },
  {
   "cell_type": "code",
   "execution_count": 80,
   "metadata": {},
   "outputs": [],
   "source": [
    "model = Sequential()\n",
    "model.add(Dense(256, activation='relu', input_dim=64))\n",
    "model.add(Dense(128, activation='relu', input_dim=64))\n",
    "model.add(Dense(outshape, activation='softmax'))\n",
    "model.compile(optimizer='rmsprop',\n",
    "              loss='categorical_crossentropy',\n",
    "              metrics=['accuracy'])"
   ]
  },
  {
   "cell_type": "code",
   "execution_count": null,
   "metadata": {},
   "outputs": [
    {
     "name": "stdout",
     "output_type": "stream",
     "text": [
      "Epoch 1/100\n",
      "129911/129911 [==============================] - 6s 42us/step - loss: 9.4803 - acc: 8.6983e-04\n",
      "Epoch 2/100\n",
      "129911/129911 [==============================] - 5s 42us/step - loss: 9.4799 - acc: 9.4680e-04\n",
      "Epoch 3/100\n",
      "129911/129911 [==============================] - 6s 43us/step - loss: 9.4795 - acc: 9.3141e-04\n",
      "Epoch 4/100\n",
      "129911/129911 [==============================] - 6s 43us/step - loss: 9.4793 - acc: 0.0010\n",
      "Epoch 5/100\n",
      "129911/129911 [==============================] - 6s 43us/step - loss: 9.4794 - acc: 9.3141e-04\n",
      "Epoch 6/100\n",
      "129911/129911 [==============================] - 6s 46us/step - loss: 9.4789 - acc: 0.0011\n",
      "Epoch 7/100\n",
      "129911/129911 [==============================] - 6s 44us/step - loss: 9.4785 - acc: 0.0011\n",
      "Epoch 8/100\n",
      "129911/129911 [==============================] - 5s 42us/step - loss: 9.4782 - acc: 0.0011\n",
      "Epoch 9/100\n",
      "129911/129911 [==============================] - 6s 47us/step - loss: 9.4780 - acc: 0.0011\n",
      "Epoch 10/100\n",
      "129911/129911 [==============================] - 5s 42us/step - loss: 9.4775 - acc: 0.0012\n",
      "Epoch 11/100\n",
      "129911/129911 [==============================] - 7s 51us/step - loss: 9.4776 - acc: 0.0012\n",
      "Epoch 12/100\n",
      "129911/129911 [==============================] - 6s 47us/step - loss: 9.4773 - acc: 0.0012\n",
      "Epoch 13/100\n",
      " 44864/129911 [=========>....................] - ETA: 4s - loss: 9.4792 - acc: 0.0014"
     ]
    }
   ],
   "source": [
    "model.fit(wdataset_x, wdataset_y, epochs=100, batch_size=32)"
   ]
  },
  {
   "cell_type": "code",
   "execution_count": 9,
   "metadata": {},
   "outputs": [
    {
     "name": "stdout",
     "output_type": "stream",
     "text": [
      "129911/129911 [==============================] - 2s 16us/step\n",
      "[27.934931087176032, 0.4722309889153611]\n"
     ]
    }
   ],
   "source": [
    "score = model.evaluate(wdataset_x, wdataset_y, batch_size=128)\n",
    "print(score)"
   ]
  },
  {
   "cell_type": "code",
   "execution_count": 12,
   "metadata": {},
   "outputs": [
    {
     "name": "stdout",
     "output_type": "stream",
     "text": [
      "[0.5075639 0.4924361]\n",
      "[10 20]\n"
     ]
    }
   ],
   "source": [
    "print(model.predict(wdataset_x)[0])\n",
    "print(wdataset_y[0])"
   ]
  },
  {
   "cell_type": "code",
   "execution_count": null,
   "metadata": {},
   "outputs": [],
   "source": [
    "model = Sequential()\n",
    "# Dense(64) is a fully-connected layer with 64 hidden units.\n",
    "# in the first layer, you must specify the expected input data shape:\n",
    "# here, 20-dimensional vectors.\n",
    "model.add(Dense(64, activation='relu', input_dim=64))\n",
    "model.add(Dropout(0.5))\n",
    "model.add(Dense(64, activation='relu'))\n",
    "model.add(Dropout(0.5))\n",
    "model.add(Dense(64, activation='relu'))\n",
    "model.add(Dropout(0.5))\n",
    "model.add(Dense(64, activation='relu'))\n",
    "model.add(Dropout(0.5))\n",
    "model.add(Dense(2, activation='softmax'))\n",
    "\n",
    "sgd = SGD(lr=0.01, decay=1e-6, momentum=0.9, nesterov=True)\n",
    "model.compile(loss='categorical_crossentropy',\n",
    "              optimizer=sgd,\n",
    "              metrics=['accuracy'])\n",
    "\n",
    "model.fit(wdataset_x, wdataset_y,\n",
    "          epochs=20,\n",
    "          batch_size=128)\n",
    "score = model.evaluate(wdataset_x, wdataset_y, batch_size=128)"
   ]
  },
  {
   "cell_type": "code",
   "execution_count": null,
   "metadata": {},
   "outputs": [],
   "source": [
    "score"
   ]
  },
  {
   "cell_type": "code",
   "execution_count": null,
   "metadata": {},
   "outputs": [],
   "source": []
  }
 ],
 "metadata": {
  "kernelspec": {
   "display_name": "Python 3",
   "language": "python",
   "name": "python3"
  },
  "language_info": {
   "codemirror_mode": {
    "name": "ipython",
    "version": 3
   },
   "file_extension": ".py",
   "mimetype": "text/x-python",
   "name": "python",
   "nbconvert_exporter": "python",
   "pygments_lexer": "ipython3",
   "version": "3.7.2"
  }
 },
 "nbformat": 4,
 "nbformat_minor": 2
}
